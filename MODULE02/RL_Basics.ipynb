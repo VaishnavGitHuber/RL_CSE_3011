{
  "nbformat": 4,
  "nbformat_minor": 0,
  "metadata": {
    "colab": {
      "provenance": []
    },
    "kernelspec": {
      "name": "python3",
      "display_name": "Python 3"
    },
    "language_info": {
      "name": "python"
    }
  },
  "cells": [
    {
      "cell_type": "code",
      "execution_count": 1,
      "metadata": {
        "colab": {
          "base_uri": "https://localhost:8080/"
        },
        "id": "TIyitetChUxb",
        "outputId": "761b4153-5881-4b77-e357-5df4565de2d4"
      },
      "outputs": [
        {
          "output_type": "stream",
          "name": "stdout",
          "text": [
            "Collecting gym==0.15.4\n",
            "  Downloading gym-0.15.4.tar.gz (1.6 MB)\n",
            "\u001b[2K     \u001b[90m━━━━━━━━━━━━━━━━━━━━━━━━━━━━━━━━━━━━━━━━\u001b[0m \u001b[32m1.6/1.6 MB\u001b[0m \u001b[31m14.6 MB/s\u001b[0m eta \u001b[36m0:00:00\u001b[0m\n",
            "\u001b[?25h  Preparing metadata (setup.py) ... \u001b[?25l\u001b[?25hdone\n",
            "Requirement already satisfied: scipy in /usr/local/lib/python3.11/dist-packages (from gym==0.15.4) (1.14.1)\n",
            "Requirement already satisfied: numpy>=1.10.4 in /usr/local/lib/python3.11/dist-packages (from gym==0.15.4) (2.0.2)\n",
            "Requirement already satisfied: six in /usr/local/lib/python3.11/dist-packages (from gym==0.15.4) (1.17.0)\n",
            "Collecting pyglet<=1.3.2,>=1.2.0 (from gym==0.15.4)\n",
            "  Downloading pyglet-1.3.2-py2.py3-none-any.whl.metadata (1.4 kB)\n",
            "Collecting cloudpickle~=1.2.0 (from gym==0.15.4)\n",
            "  Downloading cloudpickle-1.2.2-py2.py3-none-any.whl.metadata (4.7 kB)\n",
            "Requirement already satisfied: opencv-python in /usr/local/lib/python3.11/dist-packages (from gym==0.15.4) (4.11.0.86)\n",
            "Requirement already satisfied: future in /usr/local/lib/python3.11/dist-packages (from pyglet<=1.3.2,>=1.2.0->gym==0.15.4) (1.0.0)\n",
            "Downloading cloudpickle-1.2.2-py2.py3-none-any.whl (25 kB)\n",
            "Downloading pyglet-1.3.2-py2.py3-none-any.whl (1.0 MB)\n",
            "\u001b[2K   \u001b[90m━━━━━━━━━━━━━━━━━━━━━━━━━━━━━━━━━━━━━━━━\u001b[0m \u001b[32m1.0/1.0 MB\u001b[0m \u001b[31m42.0 MB/s\u001b[0m eta \u001b[36m0:00:00\u001b[0m\n",
            "\u001b[?25hBuilding wheels for collected packages: gym\n",
            "  Building wheel for gym (setup.py) ... \u001b[?25l\u001b[?25hdone\n",
            "  Created wheel for gym: filename=gym-0.15.4-py3-none-any.whl size=1648443 sha256=675dcecbbf139349df2384b6579edcef8de91b6be575ad72405f02a4255f8c06\n",
            "  Stored in directory: /root/.cache/pip/wheels/c6/57/ba/ae97195ad491721713ba30777a907acadf69285c31b98e121c\n",
            "Successfully built gym\n",
            "Installing collected packages: cloudpickle, pyglet, gym\n",
            "  Attempting uninstall: cloudpickle\n",
            "    Found existing installation: cloudpickle 3.1.1\n",
            "    Uninstalling cloudpickle-3.1.1:\n",
            "      Successfully uninstalled cloudpickle-3.1.1\n",
            "  Attempting uninstall: gym\n",
            "    Found existing installation: gym 0.25.2\n",
            "    Uninstalling gym-0.25.2:\n",
            "      Successfully uninstalled gym-0.25.2\n",
            "\u001b[31mERROR: pip's dependency resolver does not currently take into account all the packages that are installed. This behaviour is the source of the following dependency conflicts.\n",
            "bigframes 1.42.0 requires cloudpickle>=2.0.0, but you have cloudpickle 1.2.2 which is incompatible.\n",
            "tensorflow-probability 0.25.0 requires cloudpickle>=1.3, but you have cloudpickle 1.2.2 which is incompatible.\n",
            "distributed 2024.12.1 requires cloudpickle>=3.0.0, but you have cloudpickle 1.2.2 which is incompatible.\n",
            "dask 2024.12.1 requires cloudpickle>=3.0.0, but you have cloudpickle 1.2.2 which is incompatible.\u001b[0m\u001b[31m\n",
            "\u001b[0mSuccessfully installed cloudpickle-1.2.2 gym-0.15.4 pyglet-1.3.2\n"
          ]
        }
      ],
      "source": [
        "!pip install gym==0.15.4"
      ]
    },
    {
      "cell_type": "code",
      "source": [
        "# importing the module\n",
        "import gym\n",
        "\n",
        "# create a gym(FrozenLake) environement\n",
        "env = gym.make(\"FrozenLake-v0\")\n",
        "\n",
        "# Runnig the environment\n",
        "env.render()"
      ],
      "metadata": {
        "colab": {
          "base_uri": "https://localhost:8080/"
        },
        "id": "3axrWqURheo7",
        "outputId": "5a8b3e13-a080-4be5-f75a-f45adcc5ec4d"
      },
      "execution_count": 2,
      "outputs": [
        {
          "output_type": "stream",
          "name": "stdout",
          "text": [
            "\n",
            "\u001b[41mS\u001b[0mFFF\n",
            "FHFH\n",
            "FFFH\n",
            "HFFG\n"
          ]
        }
      ]
    },
    {
      "cell_type": "code",
      "source": [
        "# state space\n",
        "env.observation_space\n",
        "\n",
        "# 0  1  2  3\n",
        "# 4  5  6  7\n",
        "# 8  9  10 11\n",
        "# 12 13 14 15"
      ],
      "metadata": {
        "colab": {
          "base_uri": "https://localhost:8080/"
        },
        "id": "N-61DfWvkpP2",
        "outputId": "b1cd771c-04a4-45ca-d563-a7e5e5daaa14"
      },
      "execution_count": 3,
      "outputs": [
        {
          "output_type": "execute_result",
          "data": {
            "text/plain": [
              "Discrete(16)"
            ]
          },
          "metadata": {},
          "execution_count": 3
        }
      ]
    },
    {
      "cell_type": "code",
      "source": [
        "# action space\n",
        "env.action_space\n",
        "\n",
        "# 0 - left\n",
        "# 1 - down\n",
        "# 2 - right\n",
        "# 3 - top"
      ],
      "metadata": {
        "colab": {
          "base_uri": "https://localhost:8080/"
        },
        "id": "Od10Wt5Mk2mW",
        "outputId": "9a127573-3e7d-4259-e5f2-51dcf8522b65"
      },
      "execution_count": 4,
      "outputs": [
        {
          "output_type": "execute_result",
          "data": {
            "text/plain": [
              "Discrete(4)"
            ]
          },
          "metadata": {},
          "execution_count": 4
        }
      ]
    },
    {
      "cell_type": "code",
      "source": [
        "# Random action\n",
        "env.action_space.sample() # 1 - down"
      ],
      "metadata": {
        "colab": {
          "base_uri": "https://localhost:8080/"
        },
        "id": "uJk8a2rMk6FV",
        "outputId": "0371f581-2c16-480b-8428-3e0acf913553"
      },
      "execution_count": 8,
      "outputs": [
        {
          "output_type": "execute_result",
          "data": {
            "text/plain": [
              "1"
            ]
          },
          "metadata": {},
          "execution_count": 8
        }
      ]
    },
    {
      "cell_type": "code",
      "source": [
        "# performing action\n",
        "state = env.reset()\n",
        "env.render()\n",
        "\n",
        "env.step(1) # 1 - down\n",
        "env.render()"
      ],
      "metadata": {
        "colab": {
          "base_uri": "https://localhost:8080/"
        },
        "id": "f1r4fd6SoUrG",
        "outputId": "41c351fe-fb66-4fd2-c80c-e8707c8b9ee6"
      },
      "execution_count": 26,
      "outputs": [
        {
          "output_type": "stream",
          "name": "stdout",
          "text": [
            "\n",
            "\u001b[41mS\u001b[0mFFF\n",
            "FHFH\n",
            "FFFH\n",
            "HFFG\n",
            "  (Down)\n",
            "SFFF\n",
            "\u001b[41mF\u001b[0mHFH\n",
            "FFFH\n",
            "HFFG\n"
          ]
        }
      ]
    },
    {
      "cell_type": "markdown",
      "source": [
        "### GENERATING A EPISODE\n",
        "- Algorithm\n",
        "1. import the gym module\n",
        "2. creating a environement\n",
        "3. Setting a time step\n",
        "4. iterate from i = 0 to i < timestep\n",
        "  1. Create a random action\n",
        "  2. Move tha agent\n",
        "  3. if reaches the goal state / hole terminates\n"
      ],
      "metadata": {
        "id": "u7nHUX_gldqI"
      }
    },
    {
      "cell_type": "code",
      "source": [
        "# Creating an environment\n",
        "env = gym.make(\"FrozenLake-v0\")\n",
        "\n",
        "# Render the enviroment\n",
        "print(\"Initial stage\")\n",
        "env.render()\n",
        "\n",
        "\n",
        "# reset the environment\n",
        "state = env.reset()\n",
        "\n",
        "# initialise the number of timestep\n",
        "time_steps = 20\n",
        "\n",
        "for time_step in range(time_steps):\n",
        "  # random action\n",
        "  random_action = env.action_space.sample()\n",
        "  print(f\"Random action : {random_action}\")\n",
        "  # performing action\n",
        "  (next_state, reward ,done, info) = env.step(random_action)\n",
        "\n",
        "  # print the details & render\n",
        "  print(f\"Next state: {next_state} Reward : {reward} Done? : {done} info : {info}\")\n",
        "  env.render()\n",
        "  # if reaches terminal / goal\n",
        "  if done:\n",
        "    break"
      ],
      "metadata": {
        "colab": {
          "base_uri": "https://localhost:8080/"
        },
        "id": "gk3qQmxxk_u6",
        "outputId": "1aef7af0-0b81-469a-99bd-ff1214763519"
      },
      "execution_count": 13,
      "outputs": [
        {
          "output_type": "stream",
          "name": "stdout",
          "text": [
            "Initial stage\n",
            "\n",
            "\u001b[41mS\u001b[0mFFF\n",
            "FHFH\n",
            "FFFH\n",
            "HFFG\n",
            "Random action : 0\n",
            "Next state: 4 Reward : 0.0 Done? : False info : {'prob': 0.3333333333333333}\n",
            "  (Left)\n",
            "SFFF\n",
            "\u001b[41mF\u001b[0mHFH\n",
            "FFFH\n",
            "HFFG\n",
            "Random action : 1\n",
            "Next state: 4 Reward : 0.0 Done? : False info : {'prob': 0.3333333333333333}\n",
            "  (Down)\n",
            "SFFF\n",
            "\u001b[41mF\u001b[0mHFH\n",
            "FFFH\n",
            "HFFG\n",
            "Random action : 2\n",
            "Next state: 8 Reward : 0.0 Done? : False info : {'prob': 0.3333333333333333}\n",
            "  (Right)\n",
            "SFFF\n",
            "FHFH\n",
            "\u001b[41mF\u001b[0mFFH\n",
            "HFFG\n",
            "Random action : 0\n",
            "Next state: 8 Reward : 0.0 Done? : False info : {'prob': 0.3333333333333333}\n",
            "  (Left)\n",
            "SFFF\n",
            "FHFH\n",
            "\u001b[41mF\u001b[0mFFH\n",
            "HFFG\n",
            "Random action : 2\n",
            "Next state: 12 Reward : 0.0 Done? : True info : {'prob': 0.3333333333333333}\n",
            "  (Right)\n",
            "SFFF\n",
            "FHFH\n",
            "FFFH\n",
            "\u001b[41mH\u001b[0mFFG\n"
          ]
        }
      ]
    }
  ]
}